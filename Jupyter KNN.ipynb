{
    "metadata": {
        "kernelspec": {
            "name": "python3",
            "display_name": "Python 3 (ipykernel)",
            "language": "python"
        }
    },
    "nbformat": 4,
    "nbformat_minor": 2,
    "cells": [
        {
            "cell_type": "code",
            "execution_count": 4,
            "metadata": {},
            "outputs": [
                {
                    "name": "stdout",
                    "output_type": "stream",
                    "text": "Confusion Matrix:\n[[ 74   1  42   1]\n [  9  10   2   0]\n [  6   0 350   0]\n [  6   1   7  10]]\nAccuracy: 0.8555\nPrecision: 0.8516\nRecall: 0.8555\nF1-Score: 0.8432\n"
                }
            ],
            "source": [
                "import pandas as pd\n",
                "from sklearn.model_selection import train_test_split\n",
                "from sklearn.preprocessing import LabelEncoder\n",
                "from sklearn.neighbors import KNeighborsClassifier\n",
                "from sklearn.metrics import classification_report, accuracy_score, confusion_matrix, precision_score, recall_score, f1_score\n",
                "\n",
                "# Load and prepare the dataset\n",
                "file_path = 'car.data'\n",
                "df = pd.read_csv(file_path, header=None)\n",
                "df.columns = ['buying', 'maint', 'doors', 'persons', 'lug_boot', 'safety', 'class']\n",
                "\n",
                "# Encode categorical variables\n",
                "le = LabelEncoder()\n",
                "df = df.apply(le.fit_transform)\n",
                "\n",
                "# Split the data into features and labels\n",
                "X = df.drop('class', axis=1)\n",
                "y = df['class']\n",
                "\n",
                "# Split the dataset into training and testing sets\n",
                "X_train, X_test, y_train, y_test = train_test_split(X, y, test_size=0.3, random_state=42)\n",
                "\n",
                "# Initialize and train the kNN classifier\n",
                "knn = KNeighborsClassifier(n_neighbors=5)\n",
                "knn.fit(X_train, y_train)\n",
                "\n",
                "# Make predictions on the test set\n",
                "y_pred = knn.predict(X_test)\n",
                "y_pred\n",
                "\n",
                "# Evaluate the model\n",
                "cm = confusion_matrix(y_test, y_pred)\n",
                "print('Confusion Matrix:')\n",
                "print(cm)\n",
                "\n",
                "# Calculate evaluation metrics\n",
                "accuracy = accuracy_score(y_test, y_pred)\n",
                "precision = precision_score(y_test, y_pred, average='weighted')  # Use 'weighted' for multi-class\n",
                "recall = recall_score(y_test, y_pred, average='weighted')\n",
                "f1 = f1_score(y_test, y_pred, average='weighted')\n",
                "\n",
                "# Print the metrics\n",
                "print(f'Accuracy: {accuracy:.4f}')\n",
                "print(f'Precision: {precision:.4f}')\n",
                "print(f'Recall: {recall:.4f}')\n",
                "print(f'F1-Score: {f1:.4f}')\n",
                "\n",
                ""
            ]
        }
    ]
}
